{
 "cells": [
  {
   "cell_type": "code",
   "execution_count": 1,
   "metadata": {},
   "outputs": [
    {
     "data": {
      "text/plain": [
       "[1, 2, 3, 4]"
      ]
     },
     "execution_count": 1,
     "metadata": {},
     "output_type": "execute_result"
    }
   ],
   "source": [
    "L=[1,2,3,4,5] # define a list with 1-5\n",
    "L.pop(4)      # \"pop\" removes an element\n",
    "L             # if the last element of a cell is an object\n",
    "              # executing the cell will print it, like this:"
   ]
  },
  {
   "cell_type": "markdown",
   "metadata": {},
   "source": [
    "# This is a header, which I got by putting `# This...` at the beginning\n",
    "## For a subheader, type `## Subheader Text`\n",
    "###### You can do up to 6 levels of subsubsubsubsubsub headers\n",
    "I switched this cell to \"Markdown\" instead of code to write something for readers. Let's add a new cell below. You can click on `Insert` above and then `Insert Cell Below`. However, my preferred way to do this is with keyboard shortcuts. **I'll type `SHIFT+ENTER` to \"execute\" this markdown**, which executes this cell and creates a new cell below it."
   ]
  },
  {
   "cell_type": "code",
   "execution_count": 2,
   "metadata": {},
   "outputs": [
    {
     "name": "stdout",
     "output_type": "stream",
     "text": [
      "The first element in a python list is not number 1, but number 0, so L[0] returns:  1\n",
      "Python also can count backwards within a list, so L[-1] is:                         4\n",
      "Hit CTRL+ENTER to execute this cell\n"
     ]
    }
   ],
   "source": [
    "print(\"The first element in a python list is not number 1, but number 0, so L[0] returns: \", L[0])\n",
    "print(\"Python also can count backwards within a list, so L[-1] is:                        \",L[-1])\n",
    "print(\"Hit CTRL+ENTER to execute this cell\")"
   ]
  },
  {
   "cell_type": "markdown",
   "metadata": {},
   "source": [
    "The border indicates that this is the cell you are actively editing. Jupyter text"
   ]
  }
 ],
 "metadata": {
  "kernelspec": {
   "display_name": "Python 3",
   "language": "python",
   "name": "python3"
  },
  "language_info": {
   "codemirror_mode": {
    "name": "ipython",
    "version": 3
   },
   "file_extension": ".py",
   "mimetype": "text/x-python",
   "name": "python",
   "nbconvert_exporter": "python",
   "pygments_lexer": "ipython3",
   "version": "3.8.5"
  }
 },
 "nbformat": 4,
 "nbformat_minor": 4
}
