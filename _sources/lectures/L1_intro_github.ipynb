{
 "cells": [
  {
   "cell_type": "markdown",
   "metadata": {},
   "source": [
    "# Hello everyone!"
   ]
  },
  {
   "cell_type": "markdown",
   "metadata": {},
   "source": [
    "## Outline\n",
    "\n",
    "1. Motivation\n",
    "1. Icebreaker\n",
    "1. Expectations and norms\n",
    "1. Github - head first\n",
    "1. Navigating the website site and GH org\n",
    "\n",
    "5. Before next time...\n",
    "\n"
   ]
  },
  {
   "cell_type": "markdown",
   "metadata": {},
   "source": [
    "## Motivation\n",
    "\n"
   ]
  },
  {
   "cell_type": "markdown",
   "metadata": {},
   "source": [
    "## Icebreaker\n",
    "\n",
    "- thatnks to everyone that set up their GH with a photo - it was great to start to see a bunch of you. and thanks to everyone that filled out the survey, which I'll dig into soon. \n",
    "    - if you haven't joined the org yet - please do so now: https://classroom.github.com/a/ktlJQNlI\n",
    "    - after you do that, I'll invite you to the org as a member, and to the \"classmates\" team. make sure you get in!\n",
    "- What does best from Tuesday open - Friday close: AMC, GME, or BB?\n",
    "- 2 truths and a lie. I'll try to guess your answer when we meet one on one. Reply with a guess to at least one other person. \n",
    "\n"
   ]
  },
  {
   "cell_type": "markdown",
   "metadata": {},
   "source": [
    "## Expectations and norms\n",
    "\n",
    "Webcams on. I'll be here at least 10 min before and after. \n",
    "\n",
    "The website and notes are not comprehensive - this is on purpose, to encourage you to look around the web for answers. The \"help & resources\" page has good suggestions for high quality places to look for answers when you get stuck. It also has tips for asking better questions to get _better_ help.\n",
    "\n"
   ]
  },
  {
   "cell_type": "markdown",
   "metadata": {},
   "source": [
    "## Jumping into GitHub\n",
    "\n",
    "This class depends heavily on GitHub, so let's jump in. "
   ]
  },
  {
   "cell_type": "markdown",
   "metadata": {},
   "source": [
    "1. Let's make our Class Notes repo. A private repo! Initialize the readme. \n",
    "2. Clone it l\n",
    "\n",
    "1. Make a participation repo called \"Class Notes\" (with a blank README.md file). \n",
    "    - The repo on GitHub.com is called the \"master\" or \"origin\" repo. \n",
    "2. \"Clone\" that to your computer. \n",
    "    - The folder and files on your computer are called the \"remote\" repo. \n",
    "3. Modify the repo **in the cloud** and, then, \"fetch\" those changes to your computer. Think of \"fetch\" as syncing your computer to catch up with any changes in the master.\n",
    "    - Let's add a few notes to the readme. This is the \"front page\" of your repo, so let's make it useful to visitors (including future you!)\n",
    "    - Name, class, semester, major, graduation date (demo headers, bold and italics)\n",
    "    - Git\n",
    "4. Modify the repo **on your computer**, and then, \"push\" those changes to the cloud. Think of \"push\" as syncing the master to catch up with any changes from your computer.\n"
   ]
  },
  {
   "cell_type": "markdown",
   "metadata": {},
   "source": []
  },
  {
   "cell_type": "markdown",
   "metadata": {},
   "source": [
    "## Navigating the website site and GH org\n",
    "\n",
    "navigating the website - arrows, dashboard page, tips\n",
    "org - https://github.com/LeDataSciFi\n",
    "lectures - https://github.com/LeDataSciFi/ledatascifi-2021\n",
    "teams - https://github.com/orgs/LeDataSciFi/teams\n",
    "classmate team! &#11088; &#11088; - https://github.com/orgs/LeDataSciFi/teams/classmates\n",
    "\n",
    "\n"
   ]
  },
  {
   "cell_type": "code",
   "execution_count": null,
   "metadata": {},
   "outputs": [],
   "source": [
    "## Before next time\n",
    "\n",
    "The \"tasks\" page\n",
    "\n",
    "1. Invite me (donbowen) and tdinhjason as admins to your class notes folder. \n",
    "1. survey\n",
    "2. classmates team\n",
    "3. set up tasks\n",
    "4. meet and greet?\n",
    "5. any questions? let me know via the form\n"
   ]
  },
  {
   "cell_type": "markdown",
   "metadata": {},
   "source": [
    "## Why Github? \n",
    "\n",
    "_**Note: I use Windows and will be of less help for Mac users. The TA, however, uses Mac and will be more helpful when issues stem from OS differences. GitHub, in particular, might be finicky if you have outdated versions of Safari or any other browser.**_\n",
    "\n",
    "We will be using [GitHub](https://github.com) a lot in this course:\n",
    "\n",
    "- All of your course-related work will go on GitHub.\n",
    "- Discussion / help / announcements will happen on GitHub. (Yes, announcements!)\n",
    "- This entire website is on GitHub!\n",
    "- Assignments are posted on GitHub.\n",
    "\n",
    "But why GitHub? Because it's tremendously effective for developing a project. It is used by [Apple](https://github.com/apple), [Uber](https://github.com/uber), [Netflix](https://github.com/Netflix), Google, Microsoft, Bitcoin, CERN, Chinese censors (wait, what?), and many more large, sophisticated, multi-billion dollar entities.\n",
    "\n",
    "It's useful for (1) cloud storage, (2) collaboration, and (3) version control.\n",
    "\n",
    "Let's get started!\n",
    "\n",
    "### GitHub as cloud storage\n",
    "\n",
    "At the very least, GitHub allows for cloud storage, like Google Drive and Dropbox do. There's a bit more structure than just storing files under your account:\n",
    "\n",
    "- __Repositories (aka \"repo\")__: All files must be organized into _repositories_. Think of these as folders with **self-contained** projects. These can either be _public_ or _private_.\n",
    "- __User Accounts__ vs. __Organization Accounts (aka \"Org\")__: All repositories belong to an account:\n",
    "    - A _user account_ is the account you just made, and typically holds repositories related to your own work. \n",
    "    - An _Organization_ account can be owned by multiple people, and typically holds repositories relevant to a group (like STAT 545).\n",
    "\n",
    "Examples: \n",
    "\n",
    "- The [`awesome-python`](https://github.com/vinta/awesome-python) repo is a \"curated list of awesome Python frameworks, libraries, software and resources\" \n",
    "- The [`ledatascifi-2021 `](https://github.com/LeDataSciFi/ledatascifi-2021) repo, within its corresponding `LeDataSciFi` Org contains these lectures. \n"
   ]
  },
  {
   "cell_type": "markdown",
   "metadata": {},
   "source": [
    "### GitHub as cloud storage - Activity (10 min)\n",
    "\n",
    "__Together: Make a participation repo__\n",
    "\n",
    "- Follow the [setup instructions](https://ledatascifi.github.io/participation/participation.html) on the participation page. \n",
    "\n",
    "__Navigating GitHub__\n",
    "\n",
    "1. Together: Make a new file on your participation repository:\n",
    "    - Click on the \"Create New File\" button on your repository's home page.\n",
    "    - Call it `navigating_github.md`\n",
    "    - Leave it blank, and commit (\"save\") the file by clicking on green \"commit new file\" button at the bottom of the page.\n",
    "2. Together: Add the following URL's to your `navigating_github.md` file (click on the pen button to edit), as a bullet point list of useful URLs:\n",
    "    - The class homepage\n",
    "    - The lecture homepage\n",
    "    - The Discussions and Announcements repo\n",
    "    - The LeDataSciFi github organization homepage (https://github.com/LeDataSciFi) \n",
    "3. Together: Commit the changes.\n",
    "4. Your turn: Continue the exercise, and add more URL's (with more commentary):\n",
    "    - Your participation repo\n",
    "    - Your user account page\n",
    "5. Your turn: Commit the changes."
   ]
  },
  {
   "cell_type": "markdown",
   "metadata": {},
   "source": [
    "### GitHub for collaboration (4 min)\n",
    "\n",
    "The \"traditional\" way to collaborate involves sending files over email. But emails get buried, and, also... who has the most recent version, and what is it?\n",
    "<img src=\"http://phdcomics.com/comics/archive/phd101212s.gif\" alt=\"You don't want this\" width=\"50%\" >\n",
    "\n",
    "Git(Hub) solves this! \n",
    "\n",
    "Git (just \"Git\") is a distributed version control system. Basically: \"Imagine if Dropbox and the \"Track changes\" feature in MS Word had a baby. Git would be that baby.\" It's great for us because it's optimized for code. \n",
    "\n",
    "GitHub (not just \"Git\") is built on top of the Git system. Among the many added features that make collaboration easier, two are worth highlighting:\n",
    "\n",
    "- The GitHub repository is treated as the \"master version\".\n",
    "- **You can (and probably should!) use [GitHub Issues](https://guides.github.com/features/issues/) instead of email to track open tasks.** \n",
    "    - _Issues_ are a discussion board corresponding to a particular repository. \n",
    "    - One \"thread\" is called an Issue. Some features:\n",
    "    - You can tag other GitHub users using `@username`.\n",
    "    - Get email notifications if you are tagged, or are `Watch`ing a repository.\n",
    "\n",
    "As an example, check out the Issues in the [`ggplot2`](https://github.com/tidyverse/ggplot2) repository.\n",
    "\n",
    "We will talk about collaboration later. Suffice it to say, managing group tasks is of paramount importance in virtually all jobs you might have after college."
   ]
  },
  {
   "cell_type": "markdown",
   "metadata": {},
   "source": [
    "### GitHub for collaboration - Activity (1 min)\n",
    "\n",
    "**Together: `Watch`ing the `Discussions` repo. THIS IS WHERE CLASS ANNOUNCEMENTS WILL BE POSTED.**\n",
    "\n",
    "1. Navigate to the LeDataSciFi [Discussions](https://github.com/LeDataSciFi/Discussion) repository.\n",
    "2. Click `Watch` on the upper-right corner of the repo\n",
    "\n",
    "You should now get an email notification whenever an Issue is posted by myself, the TA, or if your classmates ask a question."
   ]
  },
  {
   "cell_type": "markdown",
   "metadata": {},
   "source": [
    "### GitHub for version control with Git (5 min)\n",
    "\n",
    "This is so important, I'm elevating this to a section header:\n",
    "\n",
    "## \\*\\*\\* THE WORKFLOW RECIPE  \\*\\*\\*\n",
    "\n",
    "To start any project:\n",
    "1. Create a participation repo on GitHub (you can create a new one, fork or clone an existing one, or for assignments - be invited to one). If it's brand new, make sure to initialize the repo with a README. There is a [gif here showing me opening a new repo](https://ledatascifi.github.io/participation/participation.html#setup).\n",
    "1. Clone the repo to your local machine using GitHub desktop. \n",
    "\n",
    "![word](img/clone-to-local.gif \"cloning to local repo\")\n",
    "\n",
    "Now, every time you want to work on the project:\n",
    "1. Pull the existing master repo into your local repo on your computer (just in case a change was made by others). GitHub Desktop calls this operation a \"**fetch**\" and Git calls this a \"**pull**\".\n",
    "1. Work on the project in the local repo (on your computer). \n",
    "2. \"**Stage**\" the files to tell Git about those changes. GitHub Desktop automatically sees changes to files in the local repo when you save them and automatically “stages” them, by listing them as “changed” files in the left part of the screen. (Nice!)\n",
    "3. \"**Commit**\" to the changes to tell Git, \"yes, I want to do this, and what I did was \\[describe the changes\\]\". In GitHub Desktop, this means adding a short summary and (optionally) a longer description. Then click the **\"Commit to master\"** buttom. **Do this early and often!!!**\n",
    "5. You’re almost ready to push the changes to cloud, but not yet! What if someone else (or you on a different machine) made changes to the master repo? Prevent issues by doing this step: \"**fetch**\"/\"**pull**\" from the master repo. (On GitHub Desktop for Windows, you click the \"repository\" menu and then \"Pull\".) If there are any conflicts, you’ll be notified and prompted to fix them. If there are conflicts, fix them!\n",
    "5. You \"**push**\" the committed local changes to the master GitHub repo by clicking the **\"Push origin\"** button! **Do this early and often!!!**\n",
    "\n",
    "Even though steps 1 and 5 might seem pointless during solo projects, I encourage you to practice these good habits now, so that when you do collaborative work, you're protected from mistakes.\n",
    "\n",
    "Again, commit and push often! It's almost as important as hitting `CTRL+S` while working on a document.\n",
    "\n",
    "![word2](img/workflow-recipe.gif \"workflow recipe\")\n",
    "\n",
    "My turn: Demonstrate some of the Git version control elements on GitHub\n",
    "\n",
    "- Fact: Git only pushes/tracks the _changes_ (called a _diff_) associated with a commit, so that it doesn't need to take a snapshot of all your files each time. \n",
    "- View commit history of the [LeDataSciFi.github.io](https://github.com/LeDataSciFi/LeDataSciFi.github.io) repository by clicking on the \"commits\" button on the repo home page.\n",
    "- View a recent diff by clicking on the button with the _SHA_ or _hash_ code (something like `6c0a5f1`).\n",
    "    - **This is also useful for collaborators to see exactly what you changed.**\n",
    "- View the repository from a while back with the `<>` button.\n",
    "- View the history of a file by clicking on the file, then clicking \"History\".\n",
    "\n",
    "Why version control? In addition to the awful \"file naming conundrum\" in the comic above,\n",
    "\n",
    "- Don't fret removing stuff\n",
    "- Leave a breadcrumb trail for troubleshooting\n",
    "- \"Undo\" and navigate a previous state\n",
    "- Helps you define your work"
   ]
  },
  {
   "cell_type": "markdown",
   "metadata": {},
   "source": [
    "## Asking effective questions online \n",
    "\n",
    "Start with the [resource page](https://ledatascifi.github.io/studentresourcevert/resource-landing.html). If that link is dead: https://ledatascifi.github.io/studentresourcevert/resource-landing.html"
   ]
  },
  {
   "cell_type": "markdown",
   "metadata": {},
   "source": [
    "## Before next class\n",
    "\n",
    "1. Finish setting up our [programming stack](#Getting-started---Our-programming-stack) as described above - install Anaconda, Git, and GitHub Desktop. \n",
    "    - Update Anaconda: Open up Anaconda Powershell Prompt (on windows, or terminal on Mac) and type `conda update anaconda`\n",
    "1. Test start the Jupyter Notebook (simply see if you can open it, then close it)\n",
    "    - Open Anaconda Powershell Prompt/terminal and type `jupyter notebook` and an internet tab should open with the url `http://localhost:8888` \n",
    "    - _(You can also open a Jupyter by opening `Anaconda Navigator` and then clicking on Jupyter, but I recommend using the Powershell Prompt, because getting comfortable with that will be helpful)_\n",
    "3. Github\n",
    "    - Tell us what [your username is by filling out this survey](https://forms.gle/brbs4DbAhzZqP7bj9).\n",
    "    - Please add a profile photo on GitHub, to make our exchanges and community more personal (it's easier for classmates to ignore a \"Twitter egg\" than a smiling Mountain Hawk)\n",
    "    - Sign up for a [student discount](https://education.github.com/discount_requests/new).\n",
    "2. Github practice: Set up confirmation / easy practice: [create a participation repo following these directions](https://ledatascifi.github.io/participation/participation.html#setup). As a bonus, try to \"clone\" the [class's lecture repo](https://github.com/LeDataSciFi/lectures-spr2020) and click around and explore it to find the lectures.\n",
    "    - _(Note: You might see the term \"Forking a repo\". \"Forking\" is different than \"cloning\" a repo. Cloning directly ties your local version to the original repo, while forking creates a copy on your GitHub (which you can then clone). Cloning makes it easier to fetch updates (and is often the best choice for new GitHub users), but forking has advantages too.)_\n",
    "5. You probably will want to edit text files on your computers at some point. The built in text editors on Windows and Mac aren't very good. I use an old and crappy one that I won't recommend. I'll recommend [Atom](https://atom.io/), which your TA uses, and [Sublime](https://www.sublimetext.com/). \n"
   ]
  },
  {
   "cell_type": "markdown",
   "metadata": {},
   "source": [
    "## Credits\n",
    "\n",
    "- [QuantEcon.org](QuantEcon.org)\n",
    "- [EC607](https://raw.githack.com/uo-ec607/lectures/master/01-intro/01-Intro.html#1)\n",
    "- The GitHub section, in particular, draws heavily (and replicates) on [STAT545](stat545.stat.ubc.ca/)"
   ]
  }
 ],
 "metadata": {
  "celltoolbar": "Tags",
  "kernelspec": {
   "display_name": "Python 3",
   "language": "python",
   "name": "python3"
  },
  "language_info": {
   "codemirror_mode": {
    "name": "ipython",
    "version": 3
   },
   "file_extension": ".py",
   "mimetype": "text/x-python",
   "name": "python",
   "nbconvert_exporter": "python",
   "pygments_lexer": "ipython3",
   "version": "3.8.5"
  }
 },
 "nbformat": 4,
 "nbformat_minor": 4
}
