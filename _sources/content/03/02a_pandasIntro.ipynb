{
 "cells": [
  {
   "cell_type": "markdown",
   "metadata": {},
   "source": [
    "# Powerful Pandas\n",
    "\n",
    "It's time to learn `pandas`.\n",
    "\n",
    "```{tabbed} Challenge\n",
    "![](https://media.giphy.com/media/QxZ0nbcVgMlPlnfZos/giphy.gif)\n",
    "```\n",
    "\n",
    "```{tabbed} Not happening\n",
    "I promise it will go better than this\n",
    "\n",
    "![](https://media.giphy.com/media/EPcvhM28ER9XW/giphy.gif)\n",
    "```\n",
    "\n",
    "```{tabbed} Soon \n",
    "... and when we're done, \n",
    "\n",
    "![](https://media.giphy.com/media/fUSX3E4imAn9WHwrCV/giphy.gif)\n",
    "\n",
    "```\n",
    "\n"
   ]
  },
  {
   "cell_type": "markdown",
   "metadata": {},
   "source": [
    "## Outline over the next \n",
    "\n",
    "1. Be patient and persistent: keep going when the scope of `pandas` and your first data analysis exercises stump you!\n",
    "1. Essential functions for data wrangling, statistics, and exploration\n",
    "1. Example: Data wrangling and exploration that is readable and powerful\n",
    "1. Cookbook: Typical data analysis steps, table creation, and figures\n",
    "\n"
   ]
  },
  {
   "cell_type": "markdown",
   "metadata": {},
   "source": [
    "## Do not fret the size of Pandas\n",
    "\n",
    "![](https://media.giphy.com/media/nXwhk6k5R97Da/giphy.gif)\n",
    "![](https://media.giphy.com/media/gB5o7HVgpkCYM/giphy.gif)\n",
    "\n",
    "There are over 250 methods[^lolold] that work on DataFrames objects! This means two things:\n",
    "1. [(Unlimited) Power](https://media.giphy.com/media/3o84sq21TxDH6PyYms/giphy.gif)!  \n",
    "2. Oye, hard to remember!\n",
    "\n",
    "[^lolold]: This number is out of date. It's even larger now. Err, more powerful!\n",
    "\n",
    "On top of trying to memorize (well, sort of) the available methods, a tough part of data science is conceptualizing how to shape and format and construct datasets so that algos you want to run can run and so that plots can plot.\n",
    "\n",
    "So I'm going to try to reduce it to the most common operations, and make you aware of things you can do. By the end of the semester, your Pandas proficiency will have you feeling like [Sheev Palpy](https://media.giphy.com/media/3o84sq21TxDH6PyYms/giphy.gif). \n",
    "\n",
    "```{tip}\n",
    "**HOT TIPS THEY DON'T WANT YOU TO KNOW ABOUT!\n",
    "\n",
    "1. Develop and save your \"cookbooks\" for common operations you run into. \n",
    "2. **Knowing about possible operations, and when and why to use them is more important than memorizing syntax!** [^knowing]\n",
    "    - [the official pandas tutorials](https://pandas.pydata.org/pandas-docs/stable/getting_started/index.html#intro-to-pandas) are oriented areound solving specific tasks\n",
    "1. This chapter contains a lot of informational tables and code snippets; **read it at least twice**. Once to understand _when and why_ to run a given function, and once to dig into the syntax. \n",
    "3. I cover only the most essential functions. Make sure to bookmark (and visit, these pages are very useful!)\n",
    "    - [getting started with pandas tutorials](https://pandas.pydata.org/pandas-docs/stable/getting_started/index.html#intro-to-pandas)\n",
    "    - [pandas users guide](https://pandas.pydata.org/pandas-docs/stable/user_guide/index.html#user-guide) \n",
    "    - [10 minute intro to pandas](https://pandas.pydata.org/docs/user_guide/10min.html)\n",
    "    - [panda doc's cookbook](https://pandas.pydata.org/pandas-docs/stable/user_guide/cookbook.html)\n",
    "\n",
    "```\n",
    "\n",
    "[^knowing]: If you have a firm-year panel with sales, and you want to compute industry computation, knowing that you can run a `groupby` to reduce a firm-year panel to an industry-year panel is more important than knowing the `groupby` syntax. You can always look up syntax once you know a function is needed. \n",
    "\n",
    "## Pandas get paid\n",
    "\n",
    "Pandas is worth the overhead. \n",
    "- This class as a whole is utterly unfeasible without pandas, as it makes cutting edge data science feasible (and easy, ultimately!). \n",
    "- Additionally, it is the #1 way that professionals use tabular data in Python. (Read: Pandas get paid.)\n"
   ]
  }
 ],
 "metadata": {
  "kernelspec": {
   "display_name": "Python 3",
   "language": "python",
   "name": "python3"
  },
  "language_info": {
   "codemirror_mode": {
    "name": "ipython",
    "version": 3
   },
   "file_extension": ".py",
   "mimetype": "text/x-python",
   "name": "python",
   "nbconvert_exporter": "python",
   "pygments_lexer": "ipython3",
   "version": "3.8.5"
  }
 },
 "nbformat": 4,
 "nbformat_minor": 4
}
