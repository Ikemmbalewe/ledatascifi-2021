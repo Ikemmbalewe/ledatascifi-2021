{
 "cells": [
  {
   "cell_type": "markdown",
   "metadata": {},
   "source": [
    "# Welcome to class!\n",
    "\n"
   ]
  },
  {
   "cell_type": "markdown",
   "metadata": {},
   "source": [
    "## Outline\n",
    "\n",
    "1. Motivation\n",
    "1. Overview of the course and its site\n",
    "1. Start installing the key softwares\n",
    "1. Github\n",
    "1. Before next time..."
   ]
  },
  {
   "cell_type": "markdown",
   "metadata": {},
   "source": [
    "## Motivation, or: Should I take this class (A: YES!)\n",
    "\n",
    "Employers are starving for talented students that can use Python, and they are willing to pay for it:\n",
    "\n",
    "<a href=\"https://www.codeplatoon.org/the-best-paying-and-most-in-demand-programming-languages-in-2018/\">\n",
    "    <img src=\"img/indeed.png\" width=\"60%\" ></a>\n",
    "    \n",
    "<img src=\"img/stackoverflowstrends.svg\" width=\"70%\" > \n",
    "\n",
    "<a href=\"https://www.kdnuggets.com/2018/11/most-demand-skills-data-scientists.html\">\n",
    "    <img src=\"img/jobs-by-lang.png\" width=\"60%\" ></a> \n",
    "\n",
    "<img src=\"img/lehigh.jpg\" width=\"60%\" >\n",
    "\n",
    "<img src=\"https://media.giphy.com/media/16NCZpTx3QQXS/giphy.gif\" width=\"60%\" >\n",
    "\n",
    "Have you heard any employers or guest speakers talk about the role of programming languages in the recent finance job market?\n",
    "\n",
    "And it's not just \"I can make Python print 'Hello World'\". \n",
    "\n",
    "### The data scientist approach\n",
    "1. Define a problem/project in a valuable way: A clearly specified question with metrics for success and idea of impact. Always keep the big picture in mind!\n",
    "    - Valuable skill even if you never code again!\n",
    "    "
   ]
  },
  {
   "cell_type": "markdown",
   "metadata": {
    "tags": [
     "popout"
    ]
   },
   "source": [
    "\\***Coworkers can be unreliable:**\n",
    "<img src=\"https://media.giphy.com/media/Onl9LxeKBz65W/giphy.gif\" width=\"75%\" > \n",
    "<img src=\"https://media.giphy.com/media/znSg4sT0ivRdu/giphy.gif\" width=\"75%\" > \n",
    "<img src=\"https://media.giphy.com/media/HPMTb7m5ehAUE/giphy.gif\" width=\"75%\" > "
   ]
  },
  {
   "cell_type": "markdown",
   "metadata": {},
   "source": [
    "<ol start=\"2\">\n",
    "    <li> Work <b><i>collaboratively</i></b> on the problem. </li>\n",
    "    <ul> \n",
    "        <li> Interesting problems are <b>big</b> and rarely solo: Sir Edmund Hilary needed Tsenging Norgue to climb Everest. </li>\n",
    "        <li> Valuable skill even if you never code again! Understanding how to manage how any team projects evolve (whether it is producing a document, or slides, or whatnot) is extremely valuable. Imagine spending a week on a report, and then your boss Jan or your coworker Jean Ralphio* undoes your week of work by editing a version of the report that is a week old. ARRRRRG!   </li> \n",
    "    </ul>\n",
    "    \n",
    "<li> Acquire data and clean it. Age old wisdom tells us that if the input is crap, the output will be... Time spent on cleaning is often more valuable than time spent on modeling. </li>\n",
    "<li> Explore the data.  </li>\n",
    "<li> Analysis using appropriate modeling tools. This is <25% of the work on most projects.</li>\n",
    "<li> Deliver the project conclusions to higher ups in the form of clear business recommendations. Writing should always be geared to the audience, and managers typically want bottom lines, whereas technical leads need more technical justification. </li>\n",
    "    <ul> \n",
    "    <li> Valuable skill even if you never code again! </li>\n",
    "    </ul>\n",
    "</ol>"
   ]
  },
  {
   "cell_type": "markdown",
   "metadata": {},
   "source": [
    "### From here to there...\n",
    "\n",
    "I've designed this class with the hope that you'll be prepared and able to execute each of those steps. \n",
    "\n",
    "**By the end of the semester, your resume, should you choose to, can include your (burgeoning) proficiency with Python, Github, Machine Learning (ML) tools, web scraping, and data viz, in addition to describing your exploits on Github and the final course project.** \n",
    "\n",
    "So, in terms of data scientists, your journey this semester is hopefully something like:\n",
    "\n",
    "![](img/sarahchange.png)\n",
    "\n",
    "I guess that makes me your old assistant on the journey...\n",
    "\n",
    "![](img/oldarnold.jpg)\n",
    "\n",
    "\n",
    "### Our bargain (not Faustian, I hope)\n",
    "\n",
    "**This class is ambitious!** You will need to learn skills from computer science, statistics, and econometrics just so that we have the toolkit needed to begin analysis. I'm aiming to make each of those components accessible (e.g. we won't prove any theorems, and I'm boiling down programming to essentials). Still, that menu of skills is not easy to acquire (that's why employers pay \\$\\$\\$ for it!), and...\n",
    "\n",
    "**THUS: You will have to work outside of class quite a bit.**\n",
    "\n",
    "And if you've never programmed: "
   ]
  },
  {
   "cell_type": "markdown",
   "metadata": {
    "tags": [
     "popout"
    ]
   },
   "source": [
    "<img src=\"https://i.imgflip.com/3kc97l.jpg\" width=\"75%\"/>"
   ]
  },
  {
   "cell_type": "markdown",
   "metadata": {},
   "source": [
    "- I swear, youngens these days have it so much easier!\n",
    "- **Seriously, getting Python up and running has never been quicker, and we will have some working code soon!**\n",
    "- You will be frustrated at times. This is natural! No programmer exists who has not cursed their computer to the depths of hell. \n",
    "    - This is completely true: Half the time, it's a silly typo on line 42 of your code. Like, you literally misspelled \"regression\" as \"regresion\".\n",
    "    - Corollary: A lot of programming takes place after dark, under the influence of coffee and Red Bull. This is why you misspelled \"regresion\". Try to program at times when you have a clearer mind :)\n",
    "- Overcoming those frustrating issues feels soooooo good. You'll feel a sense of accomplishment. Fight for that!\n",
    "- Your classmates are in it too, and they can, and surely will, help.\n",
    "\n",
    "**My half of the bargain:** I will work just as hard as you throughout the semester to improve this new class. It's experimental so some things (lectures, assignments) will succeed and aid you along that journey towards being Terminator 3 Linda Hamilton, and some things I try will fail. When something doesn't work out, I'll try to improve it.\n",
    "\n",
    "**Related: When you have questions in class, ask!** Falling behind is costly, and asking a question is cheap. If you're confused or having computer issues, someone else surely is too. If you're stuck outside of class (homeworks, assignments, etc.), see the resources section of the website for a set of things you can do. After trying the options there, you can always... (come to the drop-in hours!)"
   ]
  },
  {
   "cell_type": "markdown",
   "metadata": {},
   "source": [
    "## Tour the [course site](https://ledatascifi.github.io)\n",
    "\n",
    "Go over the following:\n",
    "- ~~office hours~~ drop-in hours to ask questions \n",
    "- major topics and themes\n",
    "- syllabus\n",
    "- you should check out the schedule frequently!\n",
    "- I'll skip for now, but you should check out the assignments, participation, and resources tab. Please bookmark the main page and visit these often! The class is still in development, so things will change frequently. \n"
   ]
  },
  {
   "cell_type": "markdown",
   "metadata": {},
   "source": [
    "## Getting started - Our programming stack\n",
    "\n",
    "Click on these links to get the downloads going. Then, we will go on to the next section while these continue in the background.\n",
    "\n",
    "1. Download [Anaconda](https://www.anaconda.com/distribution/) (not [the Nicki Minaj song](https://www.youtube.com/watch?v=LDZX4ooRsWs)). _Install the latest version, make Anaconda your default Python installation, and accept all the defaults otherwise._\n",
    "    \n",
    "2. Download [Git](https://git-scm.com/download/). \n",
    "    \n",
    "3. Download a Git __*client*__: To make our lives simpler, I recommend [GitHub Desktop](https://desktop.github.com/). _I accepted the default settings._\n",
    "    \n",
    "\"Fun\" fact: It is annoying that the names are so similar, but Git $\\neq$ GitHub $\\neq$ GitHub Desktop! This will make more sense soon, I promise!\n"
   ]
  },
  {
   "cell_type": "markdown",
   "metadata": {},
   "source": [
    "## Github\n",
    "\n",
    "_**Note: I use Windows and will be of less help for Mac users. The TA, however, uses Mac and will be more helpful when issues stem from OS differences. GitHub, in particular, might be finicky if you have outdated versions of Safari or any other browser.**_\n",
    "\n",
    "We will be using [GitHub](https://github.com) a lot in this course:\n",
    "\n",
    "- All of your course-related work will go on GitHub.\n",
    "- Discussion / help / announcements will happen on GitHub. (Yes, announcements!)\n",
    "- This entire website is on GitHub!\n",
    "- Assignments are posted on GitHub.\n",
    "\n",
    "But why GitHub? Because it's tremendously effective for developing a project. It is used by [Apple](https://github.com/apple), [Uber](https://github.com/uber), [Netflix](https://github.com/Netflix), Google, Microsoft, Bitcoin, CERN, Chinese censors (wait, what?), and many more large, sophisticated, multi-billion dollar entities.\n",
    "\n",
    "It's useful for (1) cloud storage, (2) collaboration, and (3) version control.\n",
    "\n",
    "Let's get started!\n",
    "\n",
    "### Register a GitHub account \n",
    "\n",
    "Your turn: **Register for a free account on [github.com](https://github.com).** _Give your username [some thought](https://happygitwithr.com/github-acct.html#username-advice)._  (Ideally, it should include your name.)\n",
    "\n",
    "\n",
    "### GitHub as cloud storage (4 min)\n",
    "\n",
    "At the very least, GitHub allows for cloud storage, like Google Drive and Dropbox do. There's a bit more structure than just storing files under your account:\n",
    "\n",
    "- __Repositories (aka \"repo\")__: All files must be organized into _repositories_. Think of these as self-contained projects. These can either be _public_ or _private_.\n",
    "- __User Accounts__ vs. __Organization Accounts (aka \"Org\")__: All repositories belong to an account:\n",
    "    - A _user account_ is the account you just made, and typically holds repositories related to your own work. \n",
    "    - An _Organization_ account can be owned by multiple people, and typically holds repositories relevant to a group (like STAT 545).\n",
    "\n",
    "Examples: \n",
    "\n",
    "- The [`LeDataSciFi.github.io `](https://github.com/LeDataSciFi/LeDataSciFi.github.io) repo, within its corresponding `LeDataSciFi` Org. \n",
    "- The [`awesome-python`](https://github.com/vinta/awesome-python) repo is a \"curated list of awesome Python frameworks, libraries, software and resources\" \n"
   ]
  },
  {
   "cell_type": "markdown",
   "metadata": {},
   "source": [
    "### GitHub as cloud storage - Activity (10 min)\n",
    "\n",
    "__Together: Make a participation repo__\n",
    "\n",
    "- Follow the [setup instructions](https://ledatascifi.github.io/participation/participation.html) on the participation page. \n",
    "\n",
    "__Navigating GitHub__\n",
    "\n",
    "1. Together: Make a new file on your participation repository:\n",
    "    - Click on the \"Create New File\" button on your repository's home page.\n",
    "    - Call it `navigating_github.md`\n",
    "    - Leave it blank, and commit (\"save\") the file by clicking on green \"commit new file\" button at the bottom of the page.\n",
    "2. Together: Add the following URL's to your `navigating_github.md` file (click on the pen button to edit), as a bullet point list of useful URLs:\n",
    "    - The class homepage\n",
    "    - The lecture homepage\n",
    "    - The Discussions and Announcements repo\n",
    "    - The LeDataSciFi github organization homepage (https://github.com/LeDataSciFi) \n",
    "3. Together: Commit the changes.\n",
    "4. Your turn: Continue the exercise, and add more URL's (with more commentary):\n",
    "    - Your participation repo\n",
    "    - Your user account page\n",
    "5. Your turn: Commit the changes."
   ]
  },
  {
   "cell_type": "markdown",
   "metadata": {},
   "source": [
    "### GitHub for collaboration (4 min)\n",
    "\n",
    "The \"traditional\" way to collaborate involves sending files over email. But emails get buried, and, also... who has the most recent version, and what is it?\n",
    "<img src=\"http://phdcomics.com/comics/archive/phd101212s.gif\" alt=\"You don't want this\" width=\"50%\" >\n",
    "\n",
    "Git(Hub) solves this! \n",
    "\n",
    "Git (just \"Git\") is a distributed version control system. Basically: \"Imagine if Dropbox and the \"Track changes\" feature in MS Word had a baby. Git would be that baby.\" It's great for us because it's optimized for code. \n",
    "\n",
    "GitHub (not just \"Git\") is built on top of the Git system. Among the many added features that make collaboration easier, two are worth highlighting:\n",
    "\n",
    "- The GitHub repository is treated as the \"master version\".\n",
    "- **You can (and probably should!) use [GitHub Issues](https://guides.github.com/features/issues/) instead of email to track open tasks.** \n",
    "    - _Issues_ are a discussion board corresponding to a particular repository. \n",
    "    - One \"thread\" is called an Issue. Some features:\n",
    "    - You can tag other GitHub users using `@username`.\n",
    "    - Get email notifications if you are tagged, or are `Watch`ing a repository.\n",
    "\n",
    "As an example, check out the Issues in the [`ggplot2`](https://github.com/tidyverse/ggplot2) repository.\n",
    "\n",
    "We will talk about collaboration later. Suffice it to say, managing group tasks is of paramount importance in virtually all jobs you might have after college."
   ]
  },
  {
   "cell_type": "markdown",
   "metadata": {},
   "source": [
    "### GitHub for collaboration - Activity (1 min)\n",
    "\n",
    "**Together: `Watch`ing the `Discussions` repo. THIS IS WHERE CLASS ANNOUNCEMENTS WILL BE POSTED.**\n",
    "\n",
    "1. Navigate to the LeDataSciFi [Discussions](https://github.com/LeDataSciFi/Discussion) repository.\n",
    "2. Click `Watch` on the upper-right corner of the repo\n",
    "\n",
    "You should now get an email notification whenever an Issue is posted by myself, the TA, or if your classmates ask a question."
   ]
  },
  {
   "cell_type": "markdown",
   "metadata": {},
   "source": [
    "### GitHub for version control with Git (5 min)\n",
    "\n",
    "This is so important, I'm elevating this to a section header:\n",
    "\n",
    "## \\*\\*\\* THE WORKFLOW RECIPE  \\*\\*\\*\n",
    "\n",
    "To start any project:\n",
    "1. Create a participation repo on GitHub (you can create a new one, fork or clone an existing one, or for assignments - be invited to one). If it's brand new, make sure to initialize the repo with a README. There is a [gif here showing me opening a new repo](https://ledatascifi.github.io/participation/participation.html#setup).\n",
    "1. Clone the repo to your local machine using GitHub desktop. \n",
    "\n",
    "![word](img/clone-to-local.gif \"cloning to local repo\")\n",
    "\n",
    "Now, every time you want to work on the project:\n",
    "1. Pull the existing master repo into your local repo on your computer (just in case a change was made by others). GitHub Desktop calls this operation a \"**fetch**\" and Git calls this a \"**pull**\".\n",
    "1. Work on the project in the local repo (on your computer). \n",
    "2. \"**Stage**\" the files to tell Git about those changes. GitHub Desktop automatically sees changes to files in the local repo when you save them and automatically “stages” them, by listing them as “changed” files in the left part of the screen. (Nice!)\n",
    "3. \"**Commit**\" to the changes to tell Git, \"yes, I want to do this, and what I did was \\[describe the changes\\]\". In GitHub Desktop, this means adding a short summary and (optionally) a longer description. Then click the **\"Commit to master\"** buttom. **Do this early and often!!!**\n",
    "5. You’re almost ready to push the changes to cloud, but not yet! What if someone else (or you on a different machine) made changes to the master repo? Prevent issues by doing this step: \"**fetch**\"/\"**pull**\" from the master repo. (On GitHub Desktop for Windows, you click the \"repository\" menu and then \"Pull\".) If there are any conflicts, you’ll be notified and prompted to fix them. If there are conflicts, fix them!\n",
    "5. You \"**push**\" the committed local changes to the master GitHub repo by clicking the **\"Push origin\"** button! **Do this early and often!!!**\n",
    "\n",
    "Even though steps 1 and 5 might seem pointless during solo projects, I encourage you to practice these good habits now, so that when you do collaborative work, you're protected from mistakes.\n",
    "\n",
    "Again, commit and push often! It's almost as important as hitting `CTRL+S` while working on a document.\n",
    "\n",
    "![word2](img/workflow-recipe.gif \"workflow recipe\")\n",
    "\n",
    "My turn: Demonstrate some of the Git version control elements on GitHub\n",
    "\n",
    "- Fact: Git only pushes/tracks the _changes_ (called a _diff_) associated with a commit, so that it doesn't need to take a snapshot of all your files each time. \n",
    "- View commit history of the [LeDataSciFi.github.io](https://github.com/LeDataSciFi/LeDataSciFi.github.io) repository by clicking on the \"commits\" button on the repo home page.\n",
    "- View a recent diff by clicking on the button with the _SHA_ or _hash_ code (something like `6c0a5f1`).\n",
    "    - **This is also useful for collaborators to see exactly what you changed.**\n",
    "- View the repository from a while back with the `<>` button.\n",
    "- View the history of a file by clicking on the file, then clicking \"History\".\n",
    "\n",
    "Why version control? In addition to the awful \"file naming conundrum\" in the comic above,\n",
    "\n",
    "- Don't fret removing stuff\n",
    "- Leave a breadcrumb trail for troubleshooting\n",
    "- \"Undo\" and navigate a previous state\n",
    "- Helps you define your work"
   ]
  },
  {
   "cell_type": "markdown",
   "metadata": {},
   "source": [
    "## Asking effective questions online \n",
    "\n",
    "Start with the [resource page](https://ledatascifi.github.io/studentresourcevert/resource-landing.html). If that link is dead: https://ledatascifi.github.io/studentresourcevert/resource-landing.html"
   ]
  },
  {
   "cell_type": "markdown",
   "metadata": {},
   "source": [
    "## Before next class\n",
    "\n",
    "1. Finish setting up our [programming stack](#Getting-started---Our-programming-stack) as described above - install Anaconda, Git, and GitHub Desktop. \n",
    "    - Update Anaconda: Open up Anaconda Powershell Prompt (on windows, or terminal on Mac) and type `conda update anaconda`\n",
    "1. Test start the Jupyter Notebook (simply see if you can open it, then close it)\n",
    "    - Open Anaconda Powershell Prompt/terminal and type `jupyter notebook` and an internet tab should open with the url `http://localhost:8888` \n",
    "    - _(You can also open a Jupyter by opening `Anaconda Navigator` and then clicking on Jupyter, but I recommend using the Powershell Prompt, because getting comfortable with that will be helpful)_\n",
    "3. Github\n",
    "    - Tell us what [your username is by filling out this survey](https://forms.gle/brbs4DbAhzZqP7bj9).\n",
    "    - Please add a profile photo on GitHub, to make our exchanges and community more personal (it's easier for classmates to ignore a \"Twitter egg\" than a smiling Mountain Hawk)\n",
    "    - Sign up for a [student discount](https://education.github.com/discount_requests/new).\n",
    "2. Github practice: Set up confirmation / easy practice: [create a participation repo following these directions](https://ledatascifi.github.io/participation/participation.html#setup). As a bonus, try to \"clone\" the [class's lecture repo](https://github.com/LeDataSciFi/lectures-spr2020) and click around and explore it to find the lectures.\n",
    "    - _(Note: You might see the term \"Forking a repo\". \"Forking\" is different than \"cloning\" a repo. Cloning directly ties your local version to the original repo, while forking creates a copy on your GitHub (which you can then clone). Cloning makes it easier to fetch updates (and is often the best choice for new GitHub users), but forking has advantages too.)_\n",
    "5. You probably will want to edit text files on your computers at some point. The built in text editors on Windows and Mac aren't very good. I use an old and crappy one that I won't recommend. I'll recommend [Atom](https://atom.io/), which your TA uses, and [Sublime](https://www.sublimetext.com/). \n"
   ]
  },
  {
   "cell_type": "markdown",
   "metadata": {},
   "source": [
    "## Credits\n",
    "\n",
    "- [QuantEcon.org](QuantEcon.org)\n",
    "- [EC607](https://raw.githack.com/uo-ec607/lectures/master/01-intro/01-Intro.html#1)\n",
    "- The GitHub section, in particular, draws heavily (and replicates) on [STAT545](stat545.stat.ubc.ca/)"
   ]
  }
 ],
 "metadata": {
  "celltoolbar": "Tags",
  "kernelspec": {
   "display_name": "Python 3",
   "language": "python",
   "name": "python3"
  },
  "language_info": {
   "codemirror_mode": {
    "name": "ipython",
    "version": 3
   },
   "file_extension": ".py",
   "mimetype": "text/x-python",
   "name": "python",
   "nbconvert_exporter": "python",
   "pygments_lexer": "ipython3",
   "version": "3.7.6"
  }
 },
 "nbformat": 4,
 "nbformat_minor": 2
}
