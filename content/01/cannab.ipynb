{
 "cells": [
  {
   "cell_type": "markdown",
   "metadata": {},
   "source": [
    "## Authoring - Spell check and Markdown formatting\n",
    "\n",
    "The whole point of data analysis is to communicate. You know the saying, if a \"Naive Bayes Classification\" falls in a forest and no one is around to hear it...\n",
    "\n",
    "In this class, the Jupyter notebook files are the output we're aiming for. No need to try to reformat for printing, no Word, no LaTeX. Just these notebooks. They weave data and narrative text into reproducible output. That's the goal! The main issue is that there is a lack of built-in spell checks or grammar checks. See the popout to the right for my current spell checker solution. If you find a better option, please let me know!"
   ]
  },
  {
   "cell_type": "markdown",
   "metadata": {
    "tags": [
     "popout"
    ]
   },
   "source": [
    "**Adding a spell checker.** Open Terminal/Powershell, and run these 3 lines:\n",
    "\n",
    "```\n",
    "pip install jupyter_contrib_nbextensions\n",
    "jupyter contrib nbextension install --user\n",
    "jupyter nbextension enable spellchecker/main\n",
    "```"
   ]
  },
  {
   "cell_type": "markdown",
   "metadata": {},
   "source": [
    "How do you write nice reports in Markdown? Well, we already have practice with cells. For help with formatting text, tables, and other possibilities,\n",
    "1. Do [this quick tutorial](https://commonmark.org/help/tutorial/). People have seemed to like this.\n",
    "2. GitHub has a [Markdown cheatsheet](https://guides.github.com/pdfs/markdown-cheatsheet-online.pdf).\n",
    "3. As usual, I'm often just googling \"markdown how to <something>\".\n",
    "     "
   ]
  },
  {
   "cell_type": "markdown",
   "metadata": {},
   "source": [
    "# A simple program: importing data and packages\n",
    "\n",
    "The following program could be written as a basic .py file like it is <a href=\"https://github.com/LeDataSciFi/lectures-spr2020/blob/master/content/01/python-files/a-simple-program-pyonly.py\" target=\"_blank\">here</a>. To save results from it, we'd have to output pdfs of figures, text files for tables, or just save the entire run with an ugly <a href=\"python-files/a-simple-program-pyonly-log.html\" target=\"_blank\">log file like this</a> (I saved this to an HTML file.) \n",
    "\n",
    " \n",
    "\n",
    "**Now, let's take a quick look at [a simple program](python-files/02a-a-simple-program.html) and then come right back here. If you want to download the [raw unrendered ipynb file here](https://raw.githubusercontent.com/LeDataSciFi/lectures-spr2020/master/content/01/python-files/02a-a-simple-program.ipynb), you can load this into a Jupyter session and manipulate it.** \n"
   ]
  },
  {
   "cell_type": "markdown",
   "metadata": {},
   "source": [
    "## Installing libraries \n",
    "\n",
    "The Anaconda distribution we installed also installed most of the key data science Python libraries/packages we will use throughout the semester. In the event you need to install a new package to add functionality to Python, e.g. `matplotlib` (which you already have!), you can \n",
    "\n",
    "1. Open Anaconda Powershell (Windows) or Terminal (Mac) or Jupyter (yes!)\n",
    "2. `pip install matplotlib` will install the package matplotlib. \n",
    "\n",
    "Some packages can't be `pip` installed, but hopefully you won't need to deal with that this semester, so I'm going to skip discussion of such package installs. "
   ]
  }
 ],
 "metadata": {
  "celltoolbar": "Tags",
  "kernelspec": {
   "display_name": "Python 3",
   "language": "python",
   "name": "python3"
  },
  "language_info": {
   "codemirror_mode": {
    "name": "ipython",
    "version": 3
   },
   "file_extension": ".py",
   "mimetype": "text/x-python",
   "name": "python",
   "nbconvert_exporter": "python",
   "pygments_lexer": "ipython3",
   "version": "3.8.5"
  }
 },
 "nbformat": 4,
 "nbformat_minor": 4
}
